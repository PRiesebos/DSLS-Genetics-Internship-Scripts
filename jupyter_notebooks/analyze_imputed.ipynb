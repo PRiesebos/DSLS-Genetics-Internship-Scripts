{
 "cells": [
  {
   "cell_type": "markdown",
   "metadata": {},
   "source": [
    "- Author: Peter Riesebos\n",
    "- Purpose: Script used to inspect various metrics of the imported VCF files and output stat files, overlap, etc..\n",
    "- Input: imputed vcf file, output stats file of the vcf, and an output stats with added regions column\n",
    "- Output: graphs"
   ]
  },
  {
   "cell_type": "code",
   "execution_count": 38,
   "metadata": {},
   "outputs": [
    {
     "name": "stdout",
     "output_type": "stream",
     "text": [
      "imports done.\n"
     ]
    }
   ],
   "source": [
    "import pandas as pd\n",
    "import matplotlib.pyplot as plt\n",
    "\n",
    "print(\"imports done.\")"
   ]
  },
  {
   "cell_type": "code",
   "execution_count": 2,
   "metadata": {},
   "outputs": [],
   "source": [
    "info = pd.read_csv(\"/scratch/hb-functionalgenomics/projects/gut-bulk/ongoing/2024-02-07-GutPublicRNASeq/6-imputatie/output/postimpute/output.txt.gz\", header=None, sep=';', names=[\"CHROM\", \"POS\", \"AF\", \"MAF\", \"R2\", \"TYPE\", \"ETC\"])"
   ]
  },
  {
   "cell_type": "code",
   "execution_count": 3,
   "metadata": {},
   "outputs": [
    {
     "name": "stderr",
     "output_type": "stream",
     "text": [
      "/tmp/ipykernel_939847/3826114554.py:1: DtypeWarning: Columns (6) have mixed types. Specify dtype option on import or set low_memory=False.\n",
      "  info_unfiltered = pd.read_csv(\"/scratch/hb-functionalgenomics/projects/gut-bulk/ongoing/2024-02-07-GutPublicRNASeq/6-imputatie/output/postimpute/unfiltered_output.txt.gz\", header=None, sep=';', names=[\"CHROM\", \"POS\", \"AF\", \"MAF\", \"R2\", \"TYPE\", \"ETC\"])\n"
     ]
    }
   ],
   "source": [
    "info_unfiltered = pd.read_csv(\"/scratch/hb-functionalgenomics/projects/gut-bulk/ongoing/2024-02-07-GutPublicRNASeq/6-imputatie/output/postimpute/unfiltered_output.txt.gz\", header=None, sep=';', names=[\"CHROM\", \"POS\", \"AF\", \"MAF\", \"R2\", \"TYPE\", \"ETC\"])"
   ]
  },
  {
   "cell_type": "code",
   "execution_count": 4,
   "metadata": {},
   "outputs": [
    {
     "name": "stderr",
     "output_type": "stream",
     "text": [
      "/tmp/ipykernel_939847/317452020.py:1: DtypeWarning: Columns (14,15,16,17) have mixed types. Specify dtype option on import or set low_memory=False.\n",
      "  regions = pd.read_csv(\"/scratch/hb-functionalgenomics/projects/gut-bulk/ongoing/2024-02-07-GutPublicRNASeq/6-imputatie/output/postimpute/output_stats_regions.tsv.gz\", sep='\\s+')\n"
     ]
    }
   ],
   "source": [
    "regions = pd.read_csv(\"/scratch/hb-functionalgenomics/projects/gut-bulk/ongoing/2024-02-07-GutPublicRNASeq/6-imputatie/output/postimpute/output_stats_regions.tsv.gz\", sep='\\s+')"
   ]
  },
  {
   "cell_type": "code",
   "execution_count": 39,
   "metadata": {},
   "outputs": [],
   "source": [
    "exp = pd.read_csv(\"/scratch/hb-functionalgenomics/projects/gut-bulk/ongoing/2024-02-07-GutPublicRNASeq/6-imputatie/output/postimpute/expression_samples.txt\", sep=\"\\s+\", names=['samples'])"
   ]
  },
  {
   "cell_type": "code",
   "execution_count": 25,
   "metadata": {},
   "outputs": [],
   "source": [
    "exp_t = exp.T"
   ]
  },
  {
   "cell_type": "code",
   "execution_count": 20,
   "metadata": {},
   "outputs": [],
   "source": [
    "samples = pd.read_csv(\"/scratch/hb-functionalgenomics/projects/gut-bulk/ongoing/2024-02-07-GutPublicRNASeq/6-imputatie/output/postimpute/gte_file.tsv\", sep=\"\\s+\", header=None, names=['sample1', 'sample2', 'study'])"
   ]
  },
  {
   "cell_type": "code",
   "execution_count": 27,
   "metadata": {},
   "outputs": [],
   "source": [
    "sample = samples['sample1']"
   ]
  },
  {
   "cell_type": "code",
   "execution_count": 31,
   "metadata": {},
   "outputs": [
    {
     "data": {
      "text/html": [
       "<div>\n",
       "<style scoped>\n",
       "    .dataframe tbody tr th:only-of-type {\n",
       "        vertical-align: middle;\n",
       "    }\n",
       "\n",
       "    .dataframe tbody tr th {\n",
       "        vertical-align: top;\n",
       "    }\n",
       "\n",
       "    .dataframe thead th {\n",
       "        text-align: right;\n",
       "    }\n",
       "</style>\n",
       "<table border=\"1\" class=\"dataframe\">\n",
       "  <thead>\n",
       "    <tr style=\"text-align: right;\">\n",
       "      <th></th>\n",
       "    </tr>\n",
       "  </thead>\n",
       "  <tbody>\n",
       "    <tr>\n",
       "      <th>007234a0-be80-4e10-bb32-ee26dbbbf853</th>\n",
       "    </tr>\n",
       "    <tr>\n",
       "      <th>28272b35-6498-4363-8b1c-e16b15b4a6c9</th>\n",
       "    </tr>\n",
       "    <tr>\n",
       "      <th>4458fdd7-2843-4b4f-ba0c-98b1eaf86079</th>\n",
       "    </tr>\n",
       "    <tr>\n",
       "      <th>46419127-7594-43d3-b4ea-4c7d39e0ef60</th>\n",
       "    </tr>\n",
       "    <tr>\n",
       "      <th>617478c8-4a5d-4330-be34-6f19cb65c0c5</th>\n",
       "    </tr>\n",
       "    <tr>\n",
       "      <th>...</th>\n",
       "    </tr>\n",
       "    <tr>\n",
       "      <th>SRR9608286</th>\n",
       "    </tr>\n",
       "    <tr>\n",
       "      <th>SRR9608287</th>\n",
       "    </tr>\n",
       "    <tr>\n",
       "      <th>SRR9608288</th>\n",
       "    </tr>\n",
       "    <tr>\n",
       "      <th>SRR9608289</th>\n",
       "    </tr>\n",
       "    <tr>\n",
       "      <th>SRR9608290</th>\n",
       "    </tr>\n",
       "  </tbody>\n",
       "</table>\n",
       "<p>46410 rows × 0 columns</p>\n",
       "</div>"
      ],
      "text/plain": [
       "Empty DataFrame\n",
       "Columns: []\n",
       "Index: [007234a0-be80-4e10-bb32-ee26dbbbf853, 28272b35-6498-4363-8b1c-e16b15b4a6c9, 4458fdd7-2843-4b4f-ba0c-98b1eaf86079, 46419127-7594-43d3-b4ea-4c7d39e0ef60, 617478c8-4a5d-4330-be34-6f19cb65c0c5, 75c9ca49-5fab-46a0-82ce-da214add8799, 80468695-faf8-410d-9215-81bad9bfaffc, 8a86e7ed-38e1-4207-bcc9-07a423af0adc, 8b00c3c8-3971-412b-812b-d9ff6cc9f441, a47f637f-eb28-4108-98c8-fb4725310fa0, adba98d8-e170-4dfa-b387-3f99ba4eb309, afe2e1ff-0118-47dc-84be-7e3a34ce7234, c0eb2d32-d2ca-494c-b571-a5ad4dc70014, dca625fc-2368-4064-b9a5-4eca80c6a375, dd96878a-6bcc-4c09-99b5-e5659297ed21, e207cbe9-4c3a-4fdd-9251-cfe1fe106475, ERR951677, ERR951694, ERR951697, ERR951703, ERR951708, ERR951709, ERR951713, f039079f-db80-465b-9981-988e6fb61319, f1a00df5-5135-4984-b854-bab6a675974b, f1bf1bc7-1fb8-4881-9a48-cb8efbe99e09, GTEX-11DXX-1326-SM-5GIDZ.1, GTEX-11EI6-2426-SM-5PNVS.1, GTEX-11EQ9-1226-SM-5987E.1, GTEX-11P7K-1726-SM-5GU6F.1, GTEX-11P82-0726-SM-5PNYL.1, GTEX-11VI4-0326-SM-5EQ6L.1, GTEX-11WQK-2626-SM-5EQ4K.1, GTEX-1211K-1426-SM-5FQTF.1, GTEX-12C56-0526-SM-5FQST.1, GTEX-12WSD-2326-SM-59HKQ.1, GTEX-12WSG-5007-SM-7DUGZ.1, GTEX-12WSJ-0926-SM-5P9JD.1, GTEX-13111-1226-SM-5GCNC.1, GTEX-131XE-2226-SM-5PNYX.1, GTEX-132AR-2426-SM-5IFFD.1, GTEX-1339X-1426-SM-5K7YO.1, GTEX-1399U-1626-SM-5P9J3.1, GTEX-139D8-2326-SM-5IFGE.1, GTEX-13N1W-2026-SM-5K7YU.1, GTEX-13O3Q-2126-SM-5KM4C.1, GTEX-13O61-1126-SM-5L3FI.1, GTEX-13PVQ-2126-SM-5L3FW.1, GTEX-13RTK-0226-SM-5RQHR.1, GTEX-13S7M-1826-SM-5RQK6.1, GTEX-13X6H-1626-SM-5Q5CT.1, GTEX-145ME-1026-SM-5O9B4.1, GTEX-146FH-2126-SM-5SI9U.1, GTEX-146FR-2026-SM-5NQAI.1, GTEX-14BMV-2226-SM-5RQHX.1, GTEX-14E1K-1526-SM-664MN.1, GTEX-14PHY-0926-SM-5ZZWL.1, GTEX-14PKU-1126-SM-69LOU.1, GTEX-14PN3-1326-SM-6AJ9U.1, GTEX-15EU6-2526-SM-7KUGB.1, GTEX-15G19-1526-SM-6LPKP.1, GTEX-15G1A-1226-SM-7KUF3.1, GTEX-15RIF-1126-SM-7KUG2.1, GTEX-15SHW-2126-SM-6M46Y.1, GTEX-16NGA-1526-SM-72D56.1, GTEX-17EUY-1526-SM-793CA.1, GTEX-17JCI-2226-SM-7LTA1.1, GTEX-17KNJ-1526-SM-7LTA9.1, GTEX-18A67-2626-SM-718AD.1, GTEX-18D9A-0626-SM-7KFTY.1, GTEX-18D9B-2226-SM-718BM.1, GTEX-1A3MV-1226-SM-718BW.1, GTEX-1B8L1-1526-SM-79OLK.1, GTEX-1C64O-2226-SM-73KTV.1, GTEX-1CB4E-1326-SM-7DUGD.1, GTEX-1CB4H-2426-SM-7PBYR.1, GTEX-1E2YA-2426-SM-7EPIG.1, GTEX-1EH9U-2226-SM-7PBXX.1, GTEX-1GMR2-1726-SM-9JGI2.1, GTEX-1GN1W-2126-SM-9JGI7.1, GTEX-1GPI7-1326-SM-9KNVA.1, GTEX-1GZ4I-2126-SM-9JGG4.1, GTEX-1H11D-2226-SM-9OSXN.1, GTEX-1H1DE-1226-SM-9JGHH.1, GTEX-1H3NZ-2226-SM-9WYUT.1, GTEX-1HCUA-1626-SM-A9SMG.1, GTEX-1HSEH-1526-SM-B2LXG.1, GTEX-1HSGN-2026-SM-A8N7S.1, GTEX-1HSMP-2126-SM-A8N8B.1, GTEX-1HSMQ-2426-SM-CE6RY.1, GTEX-1I4MK-0926-SM-A9SLD.1, GTEX-1IDJE-1526-SM-A9SLG.1, GTEX-1IDJF-1426-SM-ACKWK.1, GTEX-1IKK5-1126-SM-AHZ2W.1, GTEX-1IL2V-2026-SM-ARZMA.1, GTEX-1JMPY-0926-SM-ARL92.1, GTEX-1JMPZ-1826-SM-CXZJT.1, GTEX-1JN76-0926-SM-ARZNH.1, GTEX-1K2DA-0826-SM-CGQGD.1, GTEX-1KD5A-1426-SM-D4P3V.1, ...]\n",
       "\n",
       "[46410 rows x 0 columns]"
      ]
     },
     "execution_count": 31,
     "metadata": {},
     "output_type": "execute_result"
    }
   ],
   "source": [
    "exp_t"
   ]
  },
  {
   "cell_type": "code",
   "execution_count": 5,
   "metadata": {},
   "outputs": [
    {
     "data": {
      "text/html": [
       "<div>\n",
       "<style scoped>\n",
       "    .dataframe tbody tr th:only-of-type {\n",
       "        vertical-align: middle;\n",
       "    }\n",
       "\n",
       "    .dataframe tbody tr th {\n",
       "        vertical-align: top;\n",
       "    }\n",
       "\n",
       "    .dataframe thead th {\n",
       "        text-align: right;\n",
       "    }\n",
       "</style>\n",
       "<table border=\"1\" class=\"dataframe\">\n",
       "  <thead>\n",
       "    <tr style=\"text-align: right;\">\n",
       "      <th></th>\n",
       "      <th>CHROM</th>\n",
       "      <th>POS</th>\n",
       "      <th>AF</th>\n",
       "      <th>MAF</th>\n",
       "      <th>R2</th>\n",
       "      <th>TYPE</th>\n",
       "      <th>ETC</th>\n",
       "    </tr>\n",
       "  </thead>\n",
       "  <tbody>\n",
       "    <tr>\n",
       "      <th>0</th>\n",
       "      <td>1</td>\n",
       "      <td>16949</td>\n",
       "      <td>AF=0.18997</td>\n",
       "      <td>MAF=0.18997</td>\n",
       "      <td>R2=0.32136</td>\n",
       "      <td>IMPUTED</td>\n",
       "      <td>NaN</td>\n",
       "    </tr>\n",
       "    <tr>\n",
       "      <th>1</th>\n",
       "      <td>1</td>\n",
       "      <td>17020</td>\n",
       "      <td>AF=0.10545</td>\n",
       "      <td>MAF=0.10545</td>\n",
       "      <td>R2=0.50174</td>\n",
       "      <td>IMPUTED</td>\n",
       "      <td>NaN</td>\n",
       "    </tr>\n",
       "    <tr>\n",
       "      <th>2</th>\n",
       "      <td>1</td>\n",
       "      <td>17385</td>\n",
       "      <td>AF=0.09251</td>\n",
       "      <td>MAF=0.09251</td>\n",
       "      <td>R2=0.95926</td>\n",
       "      <td>ER2=0.00405</td>\n",
       "      <td>TYPED</td>\n",
       "    </tr>\n",
       "    <tr>\n",
       "      <th>3</th>\n",
       "      <td>1</td>\n",
       "      <td>17407</td>\n",
       "      <td>AF=0.01106</td>\n",
       "      <td>MAF=0.01106</td>\n",
       "      <td>R2=0.92063</td>\n",
       "      <td>ER2=0.00476</td>\n",
       "      <td>TYPED</td>\n",
       "    </tr>\n",
       "    <tr>\n",
       "      <th>4</th>\n",
       "      <td>1</td>\n",
       "      <td>17408</td>\n",
       "      <td>AF=0.04791</td>\n",
       "      <td>MAF=0.04791</td>\n",
       "      <td>R2=0.33426</td>\n",
       "      <td>IMPUTED</td>\n",
       "      <td>NaN</td>\n",
       "    </tr>\n",
       "  </tbody>\n",
       "</table>\n",
       "</div>"
      ],
      "text/plain": [
       "   CHROM    POS          AF          MAF          R2         TYPE    ETC\n",
       "0      1  16949  AF=0.18997  MAF=0.18997  R2=0.32136      IMPUTED    NaN\n",
       "1      1  17020  AF=0.10545  MAF=0.10545  R2=0.50174      IMPUTED    NaN\n",
       "2      1  17385  AF=0.09251  MAF=0.09251  R2=0.95926  ER2=0.00405  TYPED\n",
       "3      1  17407  AF=0.01106  MAF=0.01106  R2=0.92063  ER2=0.00476  TYPED\n",
       "4      1  17408  AF=0.04791  MAF=0.04791  R2=0.33426      IMPUTED    NaN"
      ]
     },
     "execution_count": 5,
     "metadata": {},
     "output_type": "execute_result"
    }
   ],
   "source": [
    "info.head()"
   ]
  },
  {
   "cell_type": "code",
   "execution_count": 6,
   "metadata": {},
   "outputs": [
    {
     "data": {
      "text/html": [
       "<div>\n",
       "<style scoped>\n",
       "    .dataframe tbody tr th:only-of-type {\n",
       "        vertical-align: middle;\n",
       "    }\n",
       "\n",
       "    .dataframe tbody tr th {\n",
       "        vertical-align: top;\n",
       "    }\n",
       "\n",
       "    .dataframe thead th {\n",
       "        text-align: right;\n",
       "    }\n",
       "</style>\n",
       "<table border=\"1\" class=\"dataframe\">\n",
       "  <thead>\n",
       "    <tr style=\"text-align: right;\">\n",
       "      <th></th>\n",
       "      <th>CHROM</th>\n",
       "      <th>POS</th>\n",
       "      <th>AF</th>\n",
       "      <th>MAF</th>\n",
       "      <th>R2</th>\n",
       "      <th>TYPE</th>\n",
       "      <th>ETC</th>\n",
       "    </tr>\n",
       "  </thead>\n",
       "  <tbody>\n",
       "    <tr>\n",
       "      <th>0</th>\n",
       "      <td>1</td>\n",
       "      <td>10390</td>\n",
       "      <td>AF=0.00695</td>\n",
       "      <td>MAF=0.00695</td>\n",
       "      <td>R2=0.01001</td>\n",
       "      <td>IMPUTED</td>\n",
       "      <td>NaN</td>\n",
       "    </tr>\n",
       "    <tr>\n",
       "      <th>1</th>\n",
       "      <td>1</td>\n",
       "      <td>10397</td>\n",
       "      <td>AF=0.0019</td>\n",
       "      <td>MAF=0.0019</td>\n",
       "      <td>R2=0.04253</td>\n",
       "      <td>IMPUTED</td>\n",
       "      <td>NaN</td>\n",
       "    </tr>\n",
       "    <tr>\n",
       "      <th>2</th>\n",
       "      <td>1</td>\n",
       "      <td>10397</td>\n",
       "      <td>AF=0.00092</td>\n",
       "      <td>MAF=0.00092</td>\n",
       "      <td>R2=0.02612</td>\n",
       "      <td>IMPUTED</td>\n",
       "      <td>NaN</td>\n",
       "    </tr>\n",
       "    <tr>\n",
       "      <th>3</th>\n",
       "      <td>1</td>\n",
       "      <td>10397</td>\n",
       "      <td>AF=0.00638</td>\n",
       "      <td>MAF=0.00638</td>\n",
       "      <td>R2=0.03236</td>\n",
       "      <td>IMPUTED</td>\n",
       "      <td>NaN</td>\n",
       "    </tr>\n",
       "    <tr>\n",
       "      <th>4</th>\n",
       "      <td>1</td>\n",
       "      <td>10403</td>\n",
       "      <td>AF=0.00152</td>\n",
       "      <td>MAF=0.00152</td>\n",
       "      <td>R2=0.00181</td>\n",
       "      <td>IMPUTED</td>\n",
       "      <td>NaN</td>\n",
       "    </tr>\n",
       "  </tbody>\n",
       "</table>\n",
       "</div>"
      ],
      "text/plain": [
       "   CHROM    POS          AF          MAF          R2     TYPE  ETC\n",
       "0      1  10390  AF=0.00695  MAF=0.00695  R2=0.01001  IMPUTED  NaN\n",
       "1      1  10397   AF=0.0019   MAF=0.0019  R2=0.04253  IMPUTED  NaN\n",
       "2      1  10397  AF=0.00092  MAF=0.00092  R2=0.02612  IMPUTED  NaN\n",
       "3      1  10397  AF=0.00638  MAF=0.00638  R2=0.03236  IMPUTED  NaN\n",
       "4      1  10403  AF=0.00152  MAF=0.00152  R2=0.00181  IMPUTED  NaN"
      ]
     },
     "execution_count": 6,
     "metadata": {},
     "output_type": "execute_result"
    }
   ],
   "source": [
    "info_unfiltered.head()"
   ]
  },
  {
   "cell_type": "code",
   "execution_count": 7,
   "metadata": {},
   "outputs": [
    {
     "data": {
      "text/html": [
       "<div>\n",
       "<style scoped>\n",
       "    .dataframe tbody tr th:only-of-type {\n",
       "        vertical-align: middle;\n",
       "    }\n",
       "\n",
       "    .dataframe tbody tr th {\n",
       "        vertical-align: top;\n",
       "    }\n",
       "\n",
       "    .dataframe thead th {\n",
       "        text-align: right;\n",
       "    }\n",
       "</style>\n",
       "<table border=\"1\" class=\"dataframe\">\n",
       "  <thead>\n",
       "    <tr style=\"text-align: right;\">\n",
       "      <th></th>\n",
       "      <th>var_id</th>\n",
       "      <th>is_indel</th>\n",
       "      <th>sample_size</th>\n",
       "      <th>nr_aa</th>\n",
       "      <th>nr_ab</th>\n",
       "      <th>nr_bb</th>\n",
       "      <th>maf</th>\n",
       "      <th>hwe</th>\n",
       "      <th>missing</th>\n",
       "      <th>gt_total</th>\n",
       "      <th>maf_type</th>\n",
       "      <th>gq</th>\n",
       "      <th>ref_freq</th>\n",
       "      <th>alt_freq</th>\n",
       "      <th>gene_types</th>\n",
       "      <th>transcripts</th>\n",
       "      <th>exons</th>\n",
       "      <th>var_status</th>\n",
       "    </tr>\n",
       "  </thead>\n",
       "  <tbody>\n",
       "    <tr>\n",
       "      <th>0</th>\n",
       "      <td>1:16949:A_C</td>\n",
       "      <td>0</td>\n",
       "      <td>194</td>\n",
       "      <td>157</td>\n",
       "      <td>37</td>\n",
       "      <td>0</td>\n",
       "      <td>0.095361</td>\n",
       "      <td>0.226233</td>\n",
       "      <td>0</td>\n",
       "      <td>194</td>\n",
       "      <td>ALT</td>\n",
       "      <td>PASS</td>\n",
       "      <td>0.904639</td>\n",
       "      <td>0.095361</td>\n",
       "      <td>protein_coding</td>\n",
       "      <td>ENST00000614336.4:ENST00000612640.4</td>\n",
       "      <td>intronic</td>\n",
       "      <td>NaN</td>\n",
       "    </tr>\n",
       "    <tr>\n",
       "      <th>1</th>\n",
       "      <td>1:17020:G_A</td>\n",
       "      <td>0</td>\n",
       "      <td>194</td>\n",
       "      <td>160</td>\n",
       "      <td>34</td>\n",
       "      <td>0</td>\n",
       "      <td>0.087629</td>\n",
       "      <td>0.369540</td>\n",
       "      <td>0</td>\n",
       "      <td>194</td>\n",
       "      <td>ALT</td>\n",
       "      <td>PASS</td>\n",
       "      <td>0.912371</td>\n",
       "      <td>0.087629</td>\n",
       "      <td>protein_coding</td>\n",
       "      <td>ENST00000614336.4:ENST00000612640.4</td>\n",
       "      <td>intronic</td>\n",
       "      <td>NaN</td>\n",
       "    </tr>\n",
       "    <tr>\n",
       "      <th>2</th>\n",
       "      <td>1:17385:G_A</td>\n",
       "      <td>0</td>\n",
       "      <td>194</td>\n",
       "      <td>159</td>\n",
       "      <td>35</td>\n",
       "      <td>0</td>\n",
       "      <td>0.090206</td>\n",
       "      <td>0.373018</td>\n",
       "      <td>0</td>\n",
       "      <td>194</td>\n",
       "      <td>ALT</td>\n",
       "      <td>PASS</td>\n",
       "      <td>0.909794</td>\n",
       "      <td>0.090206</td>\n",
       "      <td>protein_coding:protein_coding</td>\n",
       "      <td>ENST00000614336.4:ENST00000612640.4:ENST000006...</td>\n",
       "      <td>ENSE00002298587.2</td>\n",
       "      <td>exonic</td>\n",
       "    </tr>\n",
       "    <tr>\n",
       "      <th>3</th>\n",
       "      <td>1:17407:G_A</td>\n",
       "      <td>0</td>\n",
       "      <td>194</td>\n",
       "      <td>190</td>\n",
       "      <td>4</td>\n",
       "      <td>0</td>\n",
       "      <td>0.010309</td>\n",
       "      <td>1.000000</td>\n",
       "      <td>0</td>\n",
       "      <td>194</td>\n",
       "      <td>ALT</td>\n",
       "      <td>PASS</td>\n",
       "      <td>0.989691</td>\n",
       "      <td>0.010309</td>\n",
       "      <td>protein_coding:protein_coding</td>\n",
       "      <td>ENST00000614336.4:ENST00000612640.4:ENST000006...</td>\n",
       "      <td>ENSE00002298587.2</td>\n",
       "      <td>exonic</td>\n",
       "    </tr>\n",
       "    <tr>\n",
       "      <th>4</th>\n",
       "      <td>1:17408:C_G</td>\n",
       "      <td>0</td>\n",
       "      <td>194</td>\n",
       "      <td>186</td>\n",
       "      <td>8</td>\n",
       "      <td>0</td>\n",
       "      <td>0.020619</td>\n",
       "      <td>1.000000</td>\n",
       "      <td>0</td>\n",
       "      <td>194</td>\n",
       "      <td>ALT</td>\n",
       "      <td>PASS</td>\n",
       "      <td>0.979381</td>\n",
       "      <td>0.020619</td>\n",
       "      <td>protein_coding:protein_coding</td>\n",
       "      <td>ENST00000614336.4:ENST00000612640.4:ENST000006...</td>\n",
       "      <td>ENSE00002298587.2</td>\n",
       "      <td>exonic</td>\n",
       "    </tr>\n",
       "  </tbody>\n",
       "</table>\n",
       "</div>"
      ],
      "text/plain": [
       "        var_id  is_indel  sample_size  nr_aa  nr_ab  nr_bb       maf  \\\n",
       "0  1:16949:A_C         0          194    157     37      0  0.095361   \n",
       "1  1:17020:G_A         0          194    160     34      0  0.087629   \n",
       "2  1:17385:G_A         0          194    159     35      0  0.090206   \n",
       "3  1:17407:G_A         0          194    190      4      0  0.010309   \n",
       "4  1:17408:C_G         0          194    186      8      0  0.020619   \n",
       "\n",
       "        hwe  missing  gt_total maf_type    gq  ref_freq  alt_freq  \\\n",
       "0  0.226233        0       194      ALT  PASS  0.904639  0.095361   \n",
       "1  0.369540        0       194      ALT  PASS  0.912371  0.087629   \n",
       "2  0.373018        0       194      ALT  PASS  0.909794  0.090206   \n",
       "3  1.000000        0       194      ALT  PASS  0.989691  0.010309   \n",
       "4  1.000000        0       194      ALT  PASS  0.979381  0.020619   \n",
       "\n",
       "                      gene_types  \\\n",
       "0                 protein_coding   \n",
       "1                 protein_coding   \n",
       "2  protein_coding:protein_coding   \n",
       "3  protein_coding:protein_coding   \n",
       "4  protein_coding:protein_coding   \n",
       "\n",
       "                                         transcripts              exons  \\\n",
       "0                ENST00000614336.4:ENST00000612640.4           intronic   \n",
       "1                ENST00000614336.4:ENST00000612640.4           intronic   \n",
       "2  ENST00000614336.4:ENST00000612640.4:ENST000006...  ENSE00002298587.2   \n",
       "3  ENST00000614336.4:ENST00000612640.4:ENST000006...  ENSE00002298587.2   \n",
       "4  ENST00000614336.4:ENST00000612640.4:ENST000006...  ENSE00002298587.2   \n",
       "\n",
       "  var_status  \n",
       "0        NaN  \n",
       "1        NaN  \n",
       "2     exonic  \n",
       "3     exonic  \n",
       "4     exonic  "
      ]
     },
     "execution_count": 7,
     "metadata": {},
     "output_type": "execute_result"
    }
   ],
   "source": [
    "regions.head()"
   ]
  },
  {
   "cell_type": "code",
   "execution_count": 42,
   "metadata": {},
   "outputs": [
    {
     "name": "stdout",
     "output_type": "stream",
     "text": [
      "expression file genes: 28942 , gencode44b38 genes 3424767\n",
      "34.82% of genes in df_genes_exp are also in df_genes_gtf\n",
      "34.82% of genes in df_genes_exp are also in df_genes_star\n",
      "100.00% of genes in df_genes_star are also in df_genes_gtf\n",
      "92.91% of genes in df_genes_exp are also in df_genes_ensembl\n"
     ]
    }
   ],
   "source": [
    "# Read the two text files into DataFrames\n",
    "df_genes_exp = pd.read_csv('/scratch/hb-functionalgenomics/projects/gut-bulk/ongoing/2024-02-07-GutPublicRNASeq/6-imputatie/output/postimpute/gene_ids_exp.txt', header=None, names=['gene_id'])\n",
    "df_genes_gtf = pd.read_csv('/scratch/hb-functionalgenomics/projects/gut-bulk/ongoing/2024-02-07-GutPublicRNASeq/6-imputatie/output/postimpute/gene_ids_gtf.txt', header=None, names=['gene_id'])\n",
    "df_genes_star = pd.read_csv('/scratch/hb-functionalgenomics/projects/gut-bulk/ongoing/2024-02-07-GutPublicRNASeq/6-imputatie/output/postimpute/gene_ids_star.txt', header=None, names=['gene_id'])\n",
    "df_genes_ensembl = pd.read_csv('/scratch/hb-functionalgenomics/projects/gut-bulk/ongoing/2024-02-07-GutPublicRNASeq/6-imputatie/output/postimpute/gene_ids_ensembl.txt', header=None, names=['gene_id'])\n",
    "\n",
    "print('expression file genes:', len(df_genes_exp),', gencode44b38 genes', len(df_genes_gtf))\n",
    "\n",
    "common_genes = df_genes_exp['gene_id'].isin(df_genes_gtf['gene_id']).sum()\n",
    "total_genes_exp = len(df_genes_exp)\n",
    "percentage = (common_genes / total_genes_exp) * 100\n",
    "\n",
    "print(f\"{percentage:.2f}% of genes in df_genes_exp are also in df_genes_gtf\")\n",
    "\n",
    "common_genes = df_genes_exp['gene_id'].isin(df_genes_star['gene_id']).sum()\n",
    "percentage = (common_genes / total_genes_exp) * 100\n",
    "\n",
    "print(f\"{percentage:.2f}% of genes in df_genes_exp are also in df_genes_star\")\n",
    "\n",
    "common_genes = df_genes_star['gene_id'].isin(df_genes_gtf['gene_id']).sum()\n",
    "total_genes_star = len(df_genes_star)\n",
    "percentage = (common_genes / total_genes_star) * 100\n",
    "\n",
    "print(f\"{percentage:.2f}% of genes in df_genes_star are also in df_genes_gtf\")\n",
    "\n",
    "common_genes = df_genes_exp['gene_id'].isin(df_genes_ensembl['gene_id']).sum()\n",
    "percentage = (common_genes / total_genes_exp) * 100\n",
    "\n",
    "print(f\"{percentage:.2f}% of genes in df_genes_exp are also in df_genes_ensembl\")"
   ]
  },
  {
   "cell_type": "code",
   "execution_count": 47,
   "metadata": {},
   "outputs": [
    {
     "name": "stdout",
     "output_type": "stream",
     "text": [
      "98.71% of genes in df_genes_exp are also in df_genes_ensembl (without version)\n"
     ]
    }
   ],
   "source": [
    "df_genes_exp['gene_id'] = df_genes_exp['gene_id'].str.replace(r'\\.\\d+$', '', regex=True)\n",
    "df_genes_gtf['gene_id'] = df_genes_gtf['gene_id'].str.replace(r'\\.\\d+$', '', regex=True)\n",
    "\n",
    "common_genes = df_genes_exp['gene_id'].isin(df_genes_gtf['gene_id']).sum()\n",
    "total_genes_exp = len(df_genes_exp)\n",
    "percentage = (common_genes / total_genes_exp) * 100\n",
    "\n",
    "print(f\"{percentage:.2f}% of genes in df_genes_exp are also in df_genes_ensembl (without version)\")"
   ]
  },
  {
   "cell_type": "code",
   "execution_count": 29,
   "metadata": {},
   "outputs": [],
   "source": [
    "df = info.copy()  # create a copy of the dataframe\n",
    "\n",
    "# Remove 'AF=', 'MAF=' and 'R2=' from the 'AF', 'MAF' and 'R2' columns\n",
    "df['AF'] = df['AF'].str.replace('AF=', '')\n",
    "df['MAF'] = df['MAF'].str.replace('MAF=', '')\n",
    "df['R2'] = df['R2'].str.replace('R2=', '')"
   ]
  },
  {
   "cell_type": "code",
   "execution_count": 9,
   "metadata": {},
   "outputs": [],
   "source": [
    "df2 = info_unfiltered.copy()  # create a copy of the dataframe\n",
    "\n",
    "# Remove 'AF=', 'MAF=' and 'R2=' from the 'AF', 'MAF' and 'R2' columns\n",
    "df2['AF'] = df2['AF'].str.replace('AF=', '')\n",
    "df2['MAF'] = df2['MAF'].str.replace('MAF=', '')\n",
    "df2['R2'] = df2['R2'].str.replace('R2=', '')"
   ]
  },
  {
   "cell_type": "code",
   "execution_count": 10,
   "metadata": {},
   "outputs": [
    {
     "data": {
      "text/html": [
       "<div>\n",
       "<style scoped>\n",
       "    .dataframe tbody tr th:only-of-type {\n",
       "        vertical-align: middle;\n",
       "    }\n",
       "\n",
       "    .dataframe tbody tr th {\n",
       "        vertical-align: top;\n",
       "    }\n",
       "\n",
       "    .dataframe thead th {\n",
       "        text-align: right;\n",
       "    }\n",
       "</style>\n",
       "<table border=\"1\" class=\"dataframe\">\n",
       "  <thead>\n",
       "    <tr style=\"text-align: right;\">\n",
       "      <th></th>\n",
       "      <th>CHROM</th>\n",
       "      <th>POS</th>\n",
       "      <th>AF</th>\n",
       "      <th>MAF</th>\n",
       "      <th>R2</th>\n",
       "      <th>TYPE</th>\n",
       "      <th>ETC</th>\n",
       "    </tr>\n",
       "  </thead>\n",
       "  <tbody>\n",
       "    <tr>\n",
       "      <th>2355944</th>\n",
       "      <td>22</td>\n",
       "      <td>50797585</td>\n",
       "      <td>0.16649</td>\n",
       "      <td>0.16649</td>\n",
       "      <td>0.31355</td>\n",
       "      <td>IMPUTED</td>\n",
       "      <td>NaN</td>\n",
       "    </tr>\n",
       "    <tr>\n",
       "      <th>2355945</th>\n",
       "      <td>22</td>\n",
       "      <td>50798021</td>\n",
       "      <td>0.06838</td>\n",
       "      <td>0.06838</td>\n",
       "      <td>0.62017</td>\n",
       "      <td>IMPUTED</td>\n",
       "      <td>NaN</td>\n",
       "    </tr>\n",
       "    <tr>\n",
       "      <th>2355946</th>\n",
       "      <td>22</td>\n",
       "      <td>50798635</td>\n",
       "      <td>0.20533</td>\n",
       "      <td>0.20533</td>\n",
       "      <td>0.42255</td>\n",
       "      <td>IMPUTED</td>\n",
       "      <td>NaN</td>\n",
       "    </tr>\n",
       "    <tr>\n",
       "      <th>2355947</th>\n",
       "      <td>22</td>\n",
       "      <td>50799821</td>\n",
       "      <td>0.07985</td>\n",
       "      <td>0.07985</td>\n",
       "      <td>0.53828</td>\n",
       "      <td>IMPUTED</td>\n",
       "      <td>NaN</td>\n",
       "    </tr>\n",
       "    <tr>\n",
       "      <th>2355948</th>\n",
       "      <td>22</td>\n",
       "      <td>50802428</td>\n",
       "      <td>0.02055</td>\n",
       "      <td>0.02055</td>\n",
       "      <td>0.41374</td>\n",
       "      <td>IMPUTED</td>\n",
       "      <td>NaN</td>\n",
       "    </tr>\n",
       "  </tbody>\n",
       "</table>\n",
       "</div>"
      ],
      "text/plain": [
       "         CHROM       POS       AF      MAF       R2     TYPE  ETC\n",
       "2355944     22  50797585  0.16649  0.16649  0.31355  IMPUTED  NaN\n",
       "2355945     22  50798021  0.06838  0.06838  0.62017  IMPUTED  NaN\n",
       "2355946     22  50798635  0.20533  0.20533  0.42255  IMPUTED  NaN\n",
       "2355947     22  50799821  0.07985  0.07985  0.53828  IMPUTED  NaN\n",
       "2355948     22  50802428  0.02055  0.02055  0.41374  IMPUTED  NaN"
      ]
     },
     "execution_count": 10,
     "metadata": {},
     "output_type": "execute_result"
    }
   ],
   "source": [
    "df.tail()"
   ]
  },
  {
   "cell_type": "code",
   "execution_count": 11,
   "metadata": {},
   "outputs": [
    {
     "data": {
      "text/html": [
       "<div>\n",
       "<style scoped>\n",
       "    .dataframe tbody tr th:only-of-type {\n",
       "        vertical-align: middle;\n",
       "    }\n",
       "\n",
       "    .dataframe tbody tr th {\n",
       "        vertical-align: top;\n",
       "    }\n",
       "\n",
       "    .dataframe thead th {\n",
       "        text-align: right;\n",
       "    }\n",
       "</style>\n",
       "<table border=\"1\" class=\"dataframe\">\n",
       "  <thead>\n",
       "    <tr style=\"text-align: right;\">\n",
       "      <th></th>\n",
       "      <th>CHROM</th>\n",
       "      <th>POS</th>\n",
       "      <th>AF</th>\n",
       "      <th>MAF</th>\n",
       "      <th>R2</th>\n",
       "      <th>TYPE</th>\n",
       "      <th>ETC</th>\n",
       "    </tr>\n",
       "  </thead>\n",
       "  <tbody>\n",
       "    <tr>\n",
       "      <th>51068855</th>\n",
       "      <td>22</td>\n",
       "      <td>50807836</td>\n",
       "      <td>0.00057</td>\n",
       "      <td>0.00057</td>\n",
       "      <td>0.00109</td>\n",
       "      <td>IMPUTED</td>\n",
       "      <td>NaN</td>\n",
       "    </tr>\n",
       "    <tr>\n",
       "      <th>51068856</th>\n",
       "      <td>22</td>\n",
       "      <td>50807841</td>\n",
       "      <td>0.00045</td>\n",
       "      <td>0.00045</td>\n",
       "      <td>0.00052</td>\n",
       "      <td>IMPUTED</td>\n",
       "      <td>NaN</td>\n",
       "    </tr>\n",
       "    <tr>\n",
       "      <th>51068857</th>\n",
       "      <td>22</td>\n",
       "      <td>50807850</td>\n",
       "      <td>0.0023</td>\n",
       "      <td>0.0023</td>\n",
       "      <td>0.02115</td>\n",
       "      <td>IMPUTED</td>\n",
       "      <td>NaN</td>\n",
       "    </tr>\n",
       "    <tr>\n",
       "      <th>51068858</th>\n",
       "      <td>22</td>\n",
       "      <td>50807850</td>\n",
       "      <td>0.00019</td>\n",
       "      <td>0.00019</td>\n",
       "      <td>0.00037</td>\n",
       "      <td>IMPUTED</td>\n",
       "      <td>NaN</td>\n",
       "    </tr>\n",
       "    <tr>\n",
       "      <th>51068859</th>\n",
       "      <td>22</td>\n",
       "      <td>50808014</td>\n",
       "      <td>0.00217</td>\n",
       "      <td>0.00217</td>\n",
       "      <td>0.09248</td>\n",
       "      <td>IMPUTED</td>\n",
       "      <td>NaN</td>\n",
       "    </tr>\n",
       "  </tbody>\n",
       "</table>\n",
       "</div>"
      ],
      "text/plain": [
       "          CHROM       POS       AF      MAF       R2     TYPE  ETC\n",
       "51068855     22  50807836  0.00057  0.00057  0.00109  IMPUTED  NaN\n",
       "51068856     22  50807841  0.00045  0.00045  0.00052  IMPUTED  NaN\n",
       "51068857     22  50807850   0.0023   0.0023  0.02115  IMPUTED  NaN\n",
       "51068858     22  50807850  0.00019  0.00019  0.00037  IMPUTED  NaN\n",
       "51068859     22  50808014  0.00217  0.00217  0.09248  IMPUTED  NaN"
      ]
     },
     "execution_count": 11,
     "metadata": {},
     "output_type": "execute_result"
    }
   ],
   "source": [
    "df2.tail()"
   ]
  },
  {
   "cell_type": "code",
   "execution_count": 12,
   "metadata": {},
   "outputs": [],
   "source": [
    "chrom_counts = info.CHROM.value_counts().sort_values(ascending=False)"
   ]
  },
  {
   "cell_type": "code",
   "execution_count": 13,
   "metadata": {},
   "outputs": [
    {
     "data": {
      "text/plain": [
       "CHROM\n",
       "1     229882\n",
       "2     177049\n",
       "6     176810\n",
       "3     151127\n",
       "7     130470\n",
       "11    129565\n",
       "12    127200\n",
       "5     123767\n",
       "19    121934\n",
       "4     121109\n",
       "17    111993\n",
       "10    109674\n",
       "9      90589\n",
       "8      90569\n",
       "16     88944\n",
       "14     82818\n",
       "15     74544\n",
       "20     57731\n",
       "22     51698\n",
       "13     46875\n",
       "18     36808\n",
       "21     24793\n",
       "Name: count, dtype: int64"
      ]
     },
     "execution_count": 13,
     "metadata": {},
     "output_type": "execute_result"
    }
   ],
   "source": [
    "chrom_counts"
   ]
  },
  {
   "cell_type": "code",
   "execution_count": 14,
   "metadata": {},
   "outputs": [
    {
     "data": {
      "text/plain": [
       "CHROM      int64\n",
       "MAF      float64\n",
       "R2       float64\n",
       "dtype: object"
      ]
     },
     "execution_count": 14,
     "metadata": {},
     "output_type": "execute_result"
    }
   ],
   "source": [
    "test_df = df[['CHROM','MAF', 'R2']]\n",
    "test_df = test_df.astype({'MAF': float})\n",
    "test_df = test_df.astype({'R2': float})\n",
    "test_df.dtypes"
   ]
  },
  {
   "cell_type": "code",
   "execution_count": 15,
   "metadata": {},
   "outputs": [
    {
     "data": {
      "text/plain": [
       "CHROM      int64\n",
       "MAF      float64\n",
       "R2       float64\n",
       "dtype: object"
      ]
     },
     "execution_count": 15,
     "metadata": {},
     "output_type": "execute_result"
    }
   ],
   "source": [
    "test_df2 = df2[['CHROM','MAF', 'R2']]\n",
    "test_df2 = test_df2.astype({'MAF': float})\n",
    "test_df2 = test_df2.astype({'R2': float})\n",
    "test_df2.dtypes"
   ]
  },
  {
   "cell_type": "code",
   "execution_count": 16,
   "metadata": {},
   "outputs": [
    {
     "data": {
      "text/html": [
       "<div>\n",
       "<style scoped>\n",
       "    .dataframe tbody tr th:only-of-type {\n",
       "        vertical-align: middle;\n",
       "    }\n",
       "\n",
       "    .dataframe tbody tr th {\n",
       "        vertical-align: top;\n",
       "    }\n",
       "\n",
       "    .dataframe thead th {\n",
       "        text-align: right;\n",
       "    }\n",
       "</style>\n",
       "<table border=\"1\" class=\"dataframe\">\n",
       "  <thead>\n",
       "    <tr style=\"text-align: right;\">\n",
       "      <th></th>\n",
       "      <th>CHROM</th>\n",
       "      <th>MAF</th>\n",
       "      <th>R2</th>\n",
       "    </tr>\n",
       "  </thead>\n",
       "  <tbody>\n",
       "    <tr>\n",
       "      <th>0</th>\n",
       "      <td>1</td>\n",
       "      <td>0.18997</td>\n",
       "      <td>0.32136</td>\n",
       "    </tr>\n",
       "    <tr>\n",
       "      <th>1</th>\n",
       "      <td>1</td>\n",
       "      <td>0.10545</td>\n",
       "      <td>0.50174</td>\n",
       "    </tr>\n",
       "    <tr>\n",
       "      <th>2</th>\n",
       "      <td>1</td>\n",
       "      <td>0.09251</td>\n",
       "      <td>0.95926</td>\n",
       "    </tr>\n",
       "    <tr>\n",
       "      <th>3</th>\n",
       "      <td>1</td>\n",
       "      <td>0.01106</td>\n",
       "      <td>0.92063</td>\n",
       "    </tr>\n",
       "    <tr>\n",
       "      <th>4</th>\n",
       "      <td>1</td>\n",
       "      <td>0.04791</td>\n",
       "      <td>0.33426</td>\n",
       "    </tr>\n",
       "    <tr>\n",
       "      <th>...</th>\n",
       "      <td>...</td>\n",
       "      <td>...</td>\n",
       "      <td>...</td>\n",
       "    </tr>\n",
       "    <tr>\n",
       "      <th>2355944</th>\n",
       "      <td>22</td>\n",
       "      <td>0.16649</td>\n",
       "      <td>0.31355</td>\n",
       "    </tr>\n",
       "    <tr>\n",
       "      <th>2355945</th>\n",
       "      <td>22</td>\n",
       "      <td>0.06838</td>\n",
       "      <td>0.62017</td>\n",
       "    </tr>\n",
       "    <tr>\n",
       "      <th>2355946</th>\n",
       "      <td>22</td>\n",
       "      <td>0.20533</td>\n",
       "      <td>0.42255</td>\n",
       "    </tr>\n",
       "    <tr>\n",
       "      <th>2355947</th>\n",
       "      <td>22</td>\n",
       "      <td>0.07985</td>\n",
       "      <td>0.53828</td>\n",
       "    </tr>\n",
       "    <tr>\n",
       "      <th>2355948</th>\n",
       "      <td>22</td>\n",
       "      <td>0.02055</td>\n",
       "      <td>0.41374</td>\n",
       "    </tr>\n",
       "  </tbody>\n",
       "</table>\n",
       "<p>2355949 rows × 3 columns</p>\n",
       "</div>"
      ],
      "text/plain": [
       "         CHROM      MAF       R2\n",
       "0            1  0.18997  0.32136\n",
       "1            1  0.10545  0.50174\n",
       "2            1  0.09251  0.95926\n",
       "3            1  0.01106  0.92063\n",
       "4            1  0.04791  0.33426\n",
       "...        ...      ...      ...\n",
       "2355944     22  0.16649  0.31355\n",
       "2355945     22  0.06838  0.62017\n",
       "2355946     22  0.20533  0.42255\n",
       "2355947     22  0.07985  0.53828\n",
       "2355948     22  0.02055  0.41374\n",
       "\n",
       "[2355949 rows x 3 columns]"
      ]
     },
     "execution_count": 16,
     "metadata": {},
     "output_type": "execute_result"
    }
   ],
   "source": [
    "test_df"
   ]
  },
  {
   "cell_type": "code",
   "execution_count": 17,
   "metadata": {},
   "outputs": [
    {
     "data": {
      "text/html": [
       "<div>\n",
       "<style scoped>\n",
       "    .dataframe tbody tr th:only-of-type {\n",
       "        vertical-align: middle;\n",
       "    }\n",
       "\n",
       "    .dataframe tbody tr th {\n",
       "        vertical-align: top;\n",
       "    }\n",
       "\n",
       "    .dataframe thead th {\n",
       "        text-align: right;\n",
       "    }\n",
       "</style>\n",
       "<table border=\"1\" class=\"dataframe\">\n",
       "  <thead>\n",
       "    <tr style=\"text-align: right;\">\n",
       "      <th></th>\n",
       "      <th>CHROM</th>\n",
       "      <th>MAF</th>\n",
       "      <th>R2</th>\n",
       "    </tr>\n",
       "  </thead>\n",
       "  <tbody>\n",
       "    <tr>\n",
       "      <th>0</th>\n",
       "      <td>1</td>\n",
       "      <td>0.00695</td>\n",
       "      <td>0.01001</td>\n",
       "    </tr>\n",
       "    <tr>\n",
       "      <th>1</th>\n",
       "      <td>1</td>\n",
       "      <td>0.00190</td>\n",
       "      <td>0.04253</td>\n",
       "    </tr>\n",
       "    <tr>\n",
       "      <th>2</th>\n",
       "      <td>1</td>\n",
       "      <td>0.00092</td>\n",
       "      <td>0.02612</td>\n",
       "    </tr>\n",
       "    <tr>\n",
       "      <th>3</th>\n",
       "      <td>1</td>\n",
       "      <td>0.00638</td>\n",
       "      <td>0.03236</td>\n",
       "    </tr>\n",
       "    <tr>\n",
       "      <th>4</th>\n",
       "      <td>1</td>\n",
       "      <td>0.00152</td>\n",
       "      <td>0.00181</td>\n",
       "    </tr>\n",
       "    <tr>\n",
       "      <th>...</th>\n",
       "      <td>...</td>\n",
       "      <td>...</td>\n",
       "      <td>...</td>\n",
       "    </tr>\n",
       "    <tr>\n",
       "      <th>51068855</th>\n",
       "      <td>22</td>\n",
       "      <td>0.00057</td>\n",
       "      <td>0.00109</td>\n",
       "    </tr>\n",
       "    <tr>\n",
       "      <th>51068856</th>\n",
       "      <td>22</td>\n",
       "      <td>0.00045</td>\n",
       "      <td>0.00052</td>\n",
       "    </tr>\n",
       "    <tr>\n",
       "      <th>51068857</th>\n",
       "      <td>22</td>\n",
       "      <td>0.00230</td>\n",
       "      <td>0.02115</td>\n",
       "    </tr>\n",
       "    <tr>\n",
       "      <th>51068858</th>\n",
       "      <td>22</td>\n",
       "      <td>0.00019</td>\n",
       "      <td>0.00037</td>\n",
       "    </tr>\n",
       "    <tr>\n",
       "      <th>51068859</th>\n",
       "      <td>22</td>\n",
       "      <td>0.00217</td>\n",
       "      <td>0.09248</td>\n",
       "    </tr>\n",
       "  </tbody>\n",
       "</table>\n",
       "<p>51068860 rows × 3 columns</p>\n",
       "</div>"
      ],
      "text/plain": [
       "          CHROM      MAF       R2\n",
       "0             1  0.00695  0.01001\n",
       "1             1  0.00190  0.04253\n",
       "2             1  0.00092  0.02612\n",
       "3             1  0.00638  0.03236\n",
       "4             1  0.00152  0.00181\n",
       "...         ...      ...      ...\n",
       "51068855     22  0.00057  0.00109\n",
       "51068856     22  0.00045  0.00052\n",
       "51068857     22  0.00230  0.02115\n",
       "51068858     22  0.00019  0.00037\n",
       "51068859     22  0.00217  0.09248\n",
       "\n",
       "[51068860 rows x 3 columns]"
      ]
     },
     "execution_count": 17,
     "metadata": {},
     "output_type": "execute_result"
    }
   ],
   "source": [
    "test_df2"
   ]
  },
  {
   "cell_type": "code",
   "execution_count": 18,
   "metadata": {},
   "outputs": [
    {
     "data": {
      "image/png": "[encoded data removed]",
      "text/plain": [
       "<Figure size 864x432 with 1 Axes>"
      ]
     },
     "metadata": {
      "needs_background": "light"
     },
     "output_type": "display_data"
    }
   ],
   "source": [
    "# group by CHROM and calculate mean MAF for each group\n",
    "chrom_maf_means = test_df.groupby('CHROM')['MAF'].mean()\n",
    "\n",
    "# plot the results\n",
    "plt.figure(figsize=(12, 6))\n",
    "chrom_maf_means.plot(kind='bar')\n",
    "plt.xlabel('Chromosome')\n",
    "plt.ylabel('Average MAF')\n",
    "plt.title('Average MAF by Chromosome')\n",
    "plt.show()"
   ]
  },
  {
   "cell_type": "code",
   "execution_count": 19,
   "metadata": {},
   "outputs": [
    {
     "data": {
      "image/png": "[encoded data removed]",
      "text/plain": [
       "<Figure size 864x432 with 1 Axes>"
      ]
     },
     "metadata": {
      "needs_background": "light"
     },
     "output_type": "display_data"
    }
   ],
   "source": [
    "# group by CHROM and calculate mean MAF for each group\n",
    "chrom_maf_means = test_df.groupby('CHROM')['R2'].mean()\n",
    "\n",
    "# plot the results\n",
    "plt.figure(figsize=(12, 6))\n",
    "chrom_maf_means.plot(kind='bar')\n",
    "plt.xlabel('Chromosome')\n",
    "plt.ylabel('Average R2')\n",
    "plt.title('Average R2 by Chromosome')\n",
    "plt.show()"
   ]
  },
  {
   "cell_type": "code",
   "execution_count": 20,
   "metadata": {},
   "outputs": [
    {
     "data": {
      "image/png": "[encoded data removed]",
      "text/plain": [
       "<Figure size 432x288 with 1 Axes>"
      ]
     },
     "metadata": {},
     "output_type": "display_data"
    }
   ],
   "source": [
    "plt.figure(facecolor='white')\n",
    "test_df['R2'].hist(bins=10)\n",
    "plt.xlabel('R2')\n",
    "plt.ylabel('Frequency')\n",
    "plt.title('SRP129004 filtered - Histogram of R2')\n",
    "plt.show()"
   ]
  },
  {
   "cell_type": "code",
   "execution_count": 21,
   "metadata": {},
   "outputs": [
    {
     "data": {
      "image/png": "[encoded data removed]",
      "text/plain": [
       "<Figure size 432x288 with 1 Axes>"
      ]
     },
     "metadata": {},
     "output_type": "display_data"
    }
   ],
   "source": [
    "plt.figure(facecolor='white')\n",
    "test_df2['R2'].hist(bins=10)\n",
    "plt.xlabel('R2')\n",
    "plt.ylabel('Frequency')\n",
    "plt.title('SRP129004 unfiltered - Histogram of R2')\n",
    "plt.show()"
   ]
  },
  {
   "cell_type": "code",
   "execution_count": 22,
   "metadata": {},
   "outputs": [
    {
     "data": {
      "image/png": "[encoded data removed]",
      "text/plain": [
       "<Figure size 432x288 with 1 Axes>"
      ]
     },
     "metadata": {},
     "output_type": "display_data"
    }
   ],
   "source": [
    "plt.figure(facecolor='white')\n",
    "test_df['MAF'].hist(bins=10)\n",
    "plt.xlabel('MAF')\n",
    "plt.ylabel('Frequency')\n",
    "plt.title('SRP129004 filtered - Histogram of MAF')\n",
    "plt.show()"
   ]
  },
  {
   "cell_type": "code",
   "execution_count": 23,
   "metadata": {},
   "outputs": [
    {
     "data": {
      "image/png": "[encoded data removed]",
      "text/plain": [
       "<Figure size 432x288 with 1 Axes>"
      ]
     },
     "metadata": {},
     "output_type": "display_data"
    }
   ],
   "source": [
    "plt.figure(facecolor='white')\n",
    "test_df2['MAF'].hist(bins=10)\n",
    "plt.xlabel('MAF')\n",
    "plt.ylabel('Frequency')\n",
    "plt.title('SRP129004 unfiltered - Histogram of MAF')\n",
    "plt.show()"
   ]
  },
  {
   "cell_type": "code",
   "execution_count": 24,
   "metadata": {},
   "outputs": [
    {
     "data": {
      "text/plain": [
       "exons\n",
       "intronic                                                                                     1308\n",
       "ENSE00003720743.1                                                                              47\n",
       "ENSE00003744980.1:ENSE00003744980.1                                                            39\n",
       "ENSE00003741744.1                                                                              28\n",
       "ENSE00003714233.1                                                                              25\n",
       "                                                                                             ... \n",
       "ENSE00003733844.1:ENSE00003733844.1                                                             1\n",
       "ENSE00003712199.1                                                                               1\n",
       "ENSE00003730962.1                                                                               1\n",
       "ENSE00003752707.1:ENSE00003718954.1:ENSE00003741299.1:ENSE00003751415.1:ENSE00003751415.1       1\n",
       "ENSE00003712209.1:ENSE00003712209.1                                                             1\n",
       "Name: count, Length: 112, dtype: int64"
      ]
     },
     "execution_count": 24,
     "metadata": {},
     "output_type": "execute_result"
    }
   ],
   "source": [
    "regions['exons'].value_counts()"
   ]
  },
  {
   "cell_type": "code",
   "execution_count": 25,
   "metadata": {},
   "outputs": [
    {
     "data": {
      "text/plain": [
       "var_status\n",
       "exonic    574\n",
       "Name: count, dtype: int64"
      ]
     },
     "execution_count": 25,
     "metadata": {},
     "output_type": "execute_result"
    }
   ],
   "source": [
    "regions['var_status'].value_counts()"
   ]
  },
  {
   "cell_type": "code",
   "execution_count": 26,
   "metadata": {},
   "outputs": [
    {
     "data": {
      "text/plain": [
       "gene_types\n",
       "protein_coding                                                       815\n",
       "protein_coding:protein_coding                                        674\n",
       "protein_coding:protein_coding:protein_coding                         254\n",
       "pseudogene                                                            31\n",
       "protein_coding:protein_coding:protein_coding:protein_coding           29\n",
       "protein_coding:protein_coding:processed_pseudogene:protein_coding     13\n",
       "protein_coding:pseudogene                                             11\n",
       "processed_pseudogene                                                  10\n",
       "rRNA                                                                  10\n",
       "protein_coding:rRNA                                                    9\n",
       "snRNA                                                                  4\n",
       "protein_coding:protein_coding:processed_pseudogene                     3\n",
       "protein_coding:misc_RNA                                                3\n",
       "protein_coding:protein_coding:protein_coding:pseudogene                2\n",
       "protein_coding:protein_coding:protein_coding:rRNA                      2\n",
       "protein_coding:protein_coding:misc_RNA                                 2\n",
       "protein_coding:protein_coding:snRNA                                    2\n",
       "protein_coding:snRNA:pseudogene                                        2\n",
       "misc_RNA                                                               1\n",
       "rRNA:protein_coding:snRNA:protein_coding                               1\n",
       "misc_RNA:protein_coding:protein_coding                                 1\n",
       "rRNA:protein_coding:protein_coding                                     1\n",
       "protein_coding:snRNA:protein_coding                                    1\n",
       "protein_coding:snRNA                                                   1\n",
       "Name: count, dtype: int64"
      ]
     },
     "execution_count": 26,
     "metadata": {},
     "output_type": "execute_result"
    }
   ],
   "source": [
    "regions['gene_types'].value_counts()"
   ]
  }
 ],
 "metadata": {
  "kernelspec": {
   "display_name": "my_env",
   "language": "python",
   "name": "my_env"
  },
  "language_info": {
   "codemirror_mode": {
    "name": "ipython",
    "version": 3
   },
   "file_extension": ".py",
   "mimetype": "text/x-python",
   "name": "python",
   "nbconvert_exporter": "python",
   "pygments_lexer": "ipython3",
   "version": "3.10.4"
  }
 },
 "nbformat": 4,
 "nbformat_minor": 2
}
