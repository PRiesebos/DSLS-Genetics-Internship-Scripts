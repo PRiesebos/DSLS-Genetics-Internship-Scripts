{
 "cells": [
  {
   "cell_type": "markdown",
   "metadata": {},
   "source": [
    "- Author: Peter Riesebos\n",
    "- Purpose: Script used to inspect summary stats, expression data, genotype data and count matrices from my 1000IBD data and their origial publication data\n",
    "- Input: 1000IBD summary stat files, expression data, count files and 1000IBD genotype file from own data and from from Hu et al., 2021 paper.\n",
    "- Output: correlations, scatter plots, and other graphs"
   ]
  },
  {
   "cell_type": "markdown",
   "metadata": {},
   "source": [
    "## Imports"
   ]
  },
  {
   "cell_type": "code",
   "execution_count": null,
   "metadata": {},
   "outputs": [],
   "source": [
    "import pandas as pd\n",
    "import matplotlib.pyplot as plt\n",
    "import seaborn as sns\n",
    "import numpy as np\n",
    "from scipy.stats import pearsonr, spearmanr"
   ]
  },
  {
   "cell_type": "code",
   "execution_count": null,
   "metadata": {},
   "outputs": [],
   "source": [
    "# summary stats from GTEx and the 1000IBD cohort + combined exp matrix from my own three datasets (1000IBD Werna, pub rna and GTEx)\n",
    "paper_eqtls = pd.read_excel(\"/groups/umcg-fg/tmp04/projects/gut-bulk/ongoing/2024-02-07-GutPublicRNASeq/datasets/Werna/qtl/eqtl/werna_paper_summary_stats.xlsx\", header=1)\n",
    "own_eqtls = pd.read_csv(\"/groups/umcg-fg/tmp04/projects/gut-bulk/ongoing/2024-02-07-GutPublicRNASeq/datasets/Werna/qtl/eqtl/output_no_ver/merged_topeffects_final.txt\", sep='\\t')\n",
    "gtex_fastqtl = pd.read_csv(\"/groups/umcg-fg/tmp04/projects/gut-bulk/ongoing/2024-02-07-GutPublicRNASeq/datasets/GTEx/fastqtl_eqtls/Colon_Transverse.v8.signif_variant_gene_pairs.txt.gz\", sep='\\t')\n",
    "exp = pd.read_csv(\"/groups/umcg-fg/tmp04/projects/gut-bulk/ongoing/2024-02-07-GutPublicRNASeq/datasets/combined_expression_matrix_protein_coding_filtered_no_zeros.txt.gz\", sep='\\t')\n",
    "top_1000IBD_own_1000IBD_all = pd.read_csv(\"/groups/umcg-fg/tmp04/projects/gut-bulk/ongoing/2024-02-07-GutPublicRNASeq/datasets/intersect/1000IBD_paper_overlap.txt\", sep='\\t')"
   ]
  },
  {
   "cell_type": "code",
   "execution_count": null,
   "metadata": {},
   "outputs": [],
   "source": [
    "# own 1000IBD genotype data\n",
    "own_geno = pd.read_csv(\"/groups/umcg-fg/tmp04/projects/gut-bulk/ongoing/2024-02-07-GutPublicRNASeq/datasets/Werna/genotype/werna_merged_filtered_chrs.vcf.gz\", sep='\\t', header=45)"
   ]
  },
  {
   "cell_type": "code",
   "execution_count": null,
   "metadata": {},
   "outputs": [],
   "source": [
    "# geno Grch38, chr1\n",
    "own_gen_chr1_38 = pd.read_csv(\"/groups/umcg-fg/tmp04/projects/gut-bulk/ongoing/2024-02-07-GutPublicRNASeq/datasets/Werna/paper_genotype/european_GRCh38_lifted_maf0001_chr1.vcf.gz\", sep='\\t', header=218)"
   ]
  },
  {
   "cell_type": "code",
   "execution_count": null,
   "metadata": {},
   "outputs": [],
   "source": [
    "# Werna 1000IBD cohort count matrices from both the original paper as well as Joost Bakker his exp QC pipeline\n",
    "paper_count = pd.read_csv(\"/groups/umcg-fg/tmp04/projects/gut-bulk/ongoing/2024-02-07-GutPublicRNASeq/datasets/Werna/gene_counts/Merged.GeneCount.txt\", sep=\"\\t\")\n",
    "own_count = pd.read_csv(\"/groups/umcg-fg/tmp04/projects/gut-bulk/ongoing/2024-02-07-GutPublicRNASeq/datasets/Werna/rna/qc/output/3_create_gene_counts_matrix/1000IBD_gene_counts.txt.gz\", sep='\\t')\n",
    "own_normalized_counts = pd.read_csv(\"/groups/umcg-fg/tmp04/projects/gut-bulk/ongoing/2024-02-07-GutPublicRNASeq/datasets/Werna/rna/qc/output/9_covariate_correction/1000IBD_gene_counts-TMM.SampleSelection.ProbesWithZeroVarianceRemoved.Log2Transformed.forcenormal.covariatecorrected.txt.gz.CovariatesRemovedOLS.txt.gz\", sep=\"\\t\")"
   ]
  },
  {
   "cell_type": "code",
   "execution_count": null,
   "metadata": {},
   "outputs": [],
   "source": [
    "# Werna g2e2d linkfile\n",
    "linkfile = pd.read_csv(\"/groups/umcg-fg/tmp04/projects/gut-bulk/ongoing/2024-02-07-GutPublicRNASeq/datasets/Werna/qtl/eqtl/annotations/g2e2d_1000IBD.tsv\", sep='\\t', names=['vcf_sample','exp_sample', 'dataset'])"
   ]
  },
  {
   "cell_type": "markdown",
   "metadata": {},
   "source": [
    "## Data overview"
   ]
  },
  {
   "cell_type": "code",
   "execution_count": null,
   "metadata": {},
   "outputs": [],
   "source": [
    "# # temp code to export tweaked paper_eqtls file\n",
    "# paper_eqtls = paper_eqtls.rename(columns={'FlippedAlleles':'SNPAlleles', 'ExpressionGene':'Gene','Chr':'GeneChr','Z-score':'MetaPZ', 'rsID':'SNP'})\n",
    "# paper_eqtls.to_csv(\"/groups/umcg-fg/tmp04/projects/gut-bulk/ongoing/2024-02-07-GutPublicRNASeq/datasets/Werna/qtl/eqtl/paper_eqtls_tweaked.tsv\", index=False, sep='\\t')"
   ]
  },
  {
   "cell_type": "code",
   "execution_count": null,
   "metadata": {},
   "outputs": [],
   "source": [
    "paper_eqtls"
   ]
  },
  {
   "cell_type": "code",
   "execution_count": null,
   "metadata": {},
   "outputs": [],
   "source": [
    "own_eqtls"
   ]
  },
  {
   "cell_type": "code",
   "execution_count": null,
   "metadata": {},
   "outputs": [],
   "source": [
    "top_1000IBD_own_1000IBD_all"
   ]
  },
  {
   "cell_type": "code",
   "execution_count": null,
   "metadata": {},
   "outputs": [],
   "source": [
    "gtex_fastqtl"
   ]
  },
  {
   "cell_type": "code",
   "execution_count": null,
   "metadata": {},
   "outputs": [],
   "source": [
    "exp"
   ]
  },
  {
   "cell_type": "code",
   "execution_count": null,
   "metadata": {},
   "outputs": [],
   "source": [
    "paper_count"
   ]
  },
  {
   "cell_type": "code",
   "execution_count": null,
   "metadata": {},
   "outputs": [],
   "source": [
    "own_count"
   ]
  },
  {
   "cell_type": "code",
   "execution_count": null,
   "metadata": {},
   "outputs": [],
   "source": [
    "linkfile"
   ]
  },
  {
   "cell_type": "markdown",
   "metadata": {},
   "source": [
    "## Data manipulation"
   ]
  },
  {
   "cell_type": "code",
   "execution_count": null,
   "metadata": {},
   "outputs": [],
   "source": [
    "merged_df = pd.merge(\n",
    "    paper_eqtls, \n",
    "    top_1000IBD_own_1000IBD_all, \n",
    "    how='left', \n",
    "    on=['Gene', 'GeneChr'], \n",
    "    indicator=True\n",
    ")\n",
    "\n",
    "# Filter out the rows where the match was found in the subset (i.e. '_merge' column == 'left_only')\n",
    "not_in_subset = merged_df[merged_df['_merge'] == 'left_only'].drop(columns='_merge')\n",
    "\n",
    "# Display or save the resulting DataFrame\n",
    "not_in_subset"
   ]
  },
  {
   "cell_type": "code",
   "execution_count": null,
   "metadata": {},
   "outputs": [],
   "source": [
    "paper_eqtls = paper_eqtls[paper_eqtls['AllelFre'] != 'AllelFre']\n",
    "paper_eqtls[\"AllelFre\"] = paper_eqtls[\"AllelFre\"].astype(float)"
   ]
  },
  {
   "cell_type": "code",
   "execution_count": null,
   "metadata": {},
   "outputs": [],
   "source": [
    "paper_eqtls['Z-score'] = paper_eqtls['Beta'] / paper_eqtls['SE']"
   ]
  },
  {
   "cell_type": "code",
   "execution_count": null,
   "metadata": {},
   "outputs": [],
   "source": [
    "paper_eqtls"
   ]
  },
  {
   "cell_type": "code",
   "execution_count": null,
   "metadata": {},
   "outputs": [],
   "source": [
    "gtex = gtex_fastqtl.copy()\n",
    "\n",
    "# Filter for unique values in the 'gene_id' column\n",
    "unique_gene_ids = gtex['gene_id'].unique()\n",
    "\n",
    "# Convert the array back to a DataFrame and strip version numbering\n",
    "gtex_unique_genes = pd.DataFrame(unique_gene_ids, columns=['gene_id'])\n",
    "gtex_unique_genes['gene_id'] = gtex_unique_genes['gene_id'].str.split('.').str[0]\n",
    "\n",
    "# Remove rows where 'gene_id' is NaN\n",
    "gtex_unique_genes = gtex_unique_genes.dropna(subset=['gene_id'])\n",
    "\n",
    "# Optionally, if you're modifying the original DataFrame:\n",
    "gtex['gene_id'] = gtex['gene_id'].str.split('.').str[0].drop_duplicates()\n",
    "gtex = gtex.dropna(subset=['gene_id'])"
   ]
  },
  {
   "cell_type": "code",
   "execution_count": null,
   "metadata": {},
   "outputs": [],
   "source": [
    "gtex"
   ]
  },
  {
   "cell_type": "code",
   "execution_count": null,
   "metadata": {},
   "outputs": [],
   "source": [
    "paper_count.columns = [name.split('.')[0] for name in paper_count.columns]\n",
    "paper_count.drop(paper_count.tail(5).index, inplace = True)\n",
    "sorted_columns = ['ID'] + sorted(paper_count.columns[1:])\n",
    "paper_count = paper_count[sorted_columns]\n",
    "paper_count = paper_count.sort_values(by='ID')\n",
    "paper_count[\"ID\"] = paper_count[\"ID\"].str.split('.').str[0]\n",
    "paper_count.rename(columns = {'ID':'Gene'}, inplace = True)"
   ]
  },
  {
   "cell_type": "code",
   "execution_count": null,
   "metadata": {},
   "outputs": [],
   "source": [
    "paper_count"
   ]
  },
  {
   "cell_type": "code",
   "execution_count": null,
   "metadata": {},
   "outputs": [],
   "source": [
    "# paper_count.to_csv(\"/groups/umcg-fg/tmp04/projects/gut-bulk/ongoing/2024-02-07-GutPublicRNASeq/datasets/Werna/gene_counts/Merged.GeneCount.Adjusted.txt\", sep='\\t', index=False)"
   ]
  },
  {
   "cell_type": "code",
   "execution_count": null,
   "metadata": {},
   "outputs": [],
   "source": [
    "sorted_columns = ['Gene'] + sorted(own_count.columns[1:])\n",
    "own_count = own_count[sorted_columns]\n",
    "own_count = own_count.sort_values(by='Gene')\n",
    "own_count[\"Gene\"] = own_count[\"Gene\"].str.split('.').str[0]\n",
    "own_count.reset_index(inplace=True, drop=True)"
   ]
  },
  {
   "cell_type": "code",
   "execution_count": null,
   "metadata": {},
   "outputs": [],
   "source": [
    "own_count"
   ]
  },
  {
   "cell_type": "code",
   "execution_count": null,
   "metadata": {},
   "outputs": [],
   "source": [
    "own_normalized_counts.rename(columns = {'-':'Gene'}, inplace = True)\n",
    "own_normalized_counts = own_normalized_counts.sort_values(by='Gene')"
   ]
  },
  {
   "cell_type": "code",
   "execution_count": null,
   "metadata": {},
   "outputs": [],
   "source": [
    "own_geno_copy = own_geno.iloc[:,:8]\n",
    "\n",
    "# Perform the first merge: where alleles are aligned (no flip)\n",
    "geno_sum_overlap_normal = pd.merge(\n",
    "    own_geno_copy,\n",
    "    paper_eqtls,\n",
    "    how='inner',\n",
    "    left_on=[\"#CHROM\", \"ID\", \"REF\", \"ALT\"],  # REF matches Allele1 and ALT matches Allele0\n",
    "    right_on=[\"Chr\", \"rsID\", \"Allele1\", \"Allele0\"]\n",
    ")\n",
    "\n",
    "# Perform the second merge: where alleles are flipped (REF matches Allele0 and ALT matches Allele1)\n",
    "geno_sum_overlap_flipped = pd.merge(\n",
    "    own_geno_copy,\n",
    "    paper_eqtls,\n",
    "    how='inner',\n",
    "    left_on=[\"#CHROM\", \"ID\", \"REF\", \"ALT\"],  # REF matches Allele0 and ALT matches Allele1\n",
    "    right_on=[\"Chr\", \"rsID\", \"Allele0\", \"Allele1\"]\n",
    ")\n",
    "\n",
    "# Combine the two results\n",
    "geno_sum_overlap = pd.concat([geno_sum_overlap_normal, geno_sum_overlap_flipped])\n",
    "\n",
    "# Optional: drop duplicates if any SNPs are found in both configurations\n",
    "geno_sum_overlap = geno_sum_overlap.drop_duplicates()\n",
    "\n",
    "# Display the result\n",
    "geno_sum_overlap.head()"
   ]
  },
  {
   "cell_type": "code",
   "execution_count": null,
   "metadata": {},
   "outputs": [],
   "source": [
    "# Function to split the column into key-value pairs\n",
    "def split_info_column(row):\n",
    "    # Split by ';'\n",
    "    pairs = row.split(';')\n",
    "    # Create a dictionary for key-value pairs\n",
    "    result = {}\n",
    "    for pair in pairs:\n",
    "        if '=' in pair:\n",
    "            # Split by '=' for key-value pairs\n",
    "            key, value = pair.split('=')\n",
    "            result[key] = value\n",
    "        else:\n",
    "            # If no '=', it's a flag, keep it as is\n",
    "            result[pair] = True\n",
    "    return pd.Series(result)\n",
    "\n",
    "# Apply the function to the DataFrame\n",
    "df_split = geno_sum_overlap['INFO'].apply(split_info_column)\n",
    "\n",
    "geno_sum_overlap_extended = pd.concat([geno_sum_overlap, df_split], axis=1)"
   ]
  },
  {
   "cell_type": "code",
   "execution_count": null,
   "metadata": {},
   "outputs": [],
   "source": [
    "geno_sum_overlap_extended"
   ]
  },
  {
   "cell_type": "code",
   "execution_count": null,
   "metadata": {},
   "outputs": [],
   "source": [
    "own_gen_chr1_38_copy = own_gen_chr1_38.iloc[:,:8]\n",
    "\n",
    "# Perform the first merge: where alleles are aligned (no flip)\n",
    "geno_chr1_overlap_normal = pd.merge(\n",
    "    own_gen_chr1_38_copy,\n",
    "    paper_eqtls,\n",
    "    how='inner',\n",
    "    left_on=[\"#CHROM\", \"ID\", \"REF\", \"ALT\"],  # REF matches Allele1 and ALT matches Allele0\n",
    "    right_on=[\"Chr\", \"rsID\", \"Allele1\", \"Allele0\"]\n",
    ")\n",
    "\n",
    "# Perform the second merge: where alleles are flipped (REF matches Allele0 and ALT matches Allele1)\n",
    "geno_chr1_overlap_flipped = pd.merge(\n",
    "    own_gen_chr1_38_copy,\n",
    "    paper_eqtls,\n",
    "    how='inner',\n",
    "    left_on=[\"#CHROM\", \"ID\", \"REF\", \"ALT\"],  # REF matches Allele0 and ALT matches Allele1\n",
    "    right_on=[\"Chr\", \"rsID\", \"Allele0\", \"Allele1\"]\n",
    ")\n",
    "\n",
    "# Combine the two results\n",
    "geno_chr1_overlap = pd.concat([geno_chr1_overlap_normal, geno_chr1_overlap_flipped])\n",
    "\n",
    "# Optional: drop duplicates if any SNPs are found in both configurations\n",
    "geno_chr1_overlap = geno_chr1_overlap.drop_duplicates()\n",
    "\n",
    "# Display the result\n",
    "geno_chr1_overlap"
   ]
  },
  {
   "cell_type": "code",
   "execution_count": null,
   "metadata": {},
   "outputs": [],
   "source": [
    "# Apply the function to the DataFrame\n",
    "df_chr1_split = geno_chr1_overlap['INFO'].apply(split_info_column)\n",
    "\n",
    "geno_chr1_overlap_extended = pd.concat([geno_chr1_overlap, df_chr1_split], axis=1)"
   ]
  },
  {
   "cell_type": "code",
   "execution_count": null,
   "metadata": {},
   "outputs": [],
   "source": [
    "geno_chr1_overlap_extended"
   ]
  },
  {
   "cell_type": "markdown",
   "metadata": {},
   "source": [
    "## Data inspection"
   ]
  },
  {
   "cell_type": "code",
   "execution_count": null,
   "metadata": {},
   "outputs": [],
   "source": [
    "intersect_paper_own = set(own_eqtls[\"Gene\"]) & set(paper_eqtls[\"ExpressionGene\"])\n",
    "print(len(intersect_paper_own))\n",
    "print(len(paper_eqtls[\"ExpressionGene\"].unique()))\n",
    "print(\"difference =\", ( len(paper_eqtls[\"ExpressionGene\"]) - len(own_eqtls[\"Gene\"].unique())))"
   ]
  },
  {
   "cell_type": "code",
   "execution_count": null,
   "metadata": {},
   "outputs": [],
   "source": [
    "intersect_exp_gtex = set(exp[\"gene\"]) & set(gtex[\"gene_id\"])\n",
    "print(len(intersect_exp_gtex))\n",
    "print(len(gtex[\"gene_id\"].unique()))\n",
    "print(\"difference =\", (len(gtex[\"gene_id\"].unique()) - len(intersect_exp_gtex)))"
   ]
  },
  {
   "cell_type": "code",
   "execution_count": null,
   "metadata": {},
   "outputs": [],
   "source": [
    "intersect_exp_werna = set(exp[\"gene\"]) & set(paper_eqtls[\"ExpressionGene\"])\n",
    "print(len(intersect_exp_werna))\n",
    "print(len(paper_eqtls[\"ExpressionGene\"].unique()))\n",
    "print(\"difference =\", (len(paper_eqtls[\"ExpressionGene\"].unique()) - len(intersect_exp_werna)))"
   ]
  },
  {
   "cell_type": "code",
   "execution_count": null,
   "metadata": {},
   "outputs": [],
   "source": [
    "paper_eqtls[\"AllelFre\"].sort_values(ascending=True)"
   ]
  },
  {
   "cell_type": "code",
   "execution_count": null,
   "metadata": {},
   "outputs": [],
   "source": [
    "intersect = set(own_count[\"Gene\"]) & set(paper_count[\"Gene\"])\n",
    "len(intersect)\n",
    "print(\"Overlap genes with version numbering: \",len(intersect))"
   ]
  },
  {
   "cell_type": "code",
   "execution_count": null,
   "metadata": {},
   "outputs": [],
   "source": [
    "print(\"Amount of overlapping samples:\",own_count.columns[1::].isin(paper_count.columns[1::]).sum())\n",
    "print(\"Amount of unique samples own_count:\", len(own_count.columns[1::].unique()))\n",
    "print(\"Amount of unique samples paper_count:\", len(paper_count.columns[1::].unique()))"
   ]
  },
  {
   "cell_type": "code",
   "execution_count": null,
   "metadata": {},
   "outputs": [],
   "source": [
    "paper_eqtls.head(1)"
   ]
  },
  {
   "cell_type": "code",
   "execution_count": null,
   "metadata": {},
   "outputs": [],
   "source": [
    "geno_sum_overlap_extended[[\"Chr\",\"ID\",\"rsID\",\"AllelFre\", \"AF\"]]"
   ]
  },
  {
   "cell_type": "code",
   "execution_count": null,
   "metadata": {},
   "outputs": [],
   "source": [
    "geno_sum_overlap_extended[geno_sum_overlap_extended[\"#CHROM\"] == 1][[\"#CHROM\", \"POS\", \"ID\"]]"
   ]
  },
  {
   "cell_type": "code",
   "execution_count": null,
   "metadata": {},
   "outputs": [],
   "source": [
    "geno_chr1_overlap_extended[[\"#CHROM\", \"POS\", \"ID\"]]"
   ]
  },
  {
   "cell_type": "markdown",
   "metadata": {},
   "source": [
    "## Correlations"
   ]
  },
  {
   "cell_type": "code",
   "execution_count": null,
   "metadata": {},
   "outputs": [],
   "source": [
    "correlation = geno_sum_overlap_extended[[\"AllelFre\", \"AF\"]].astype(float).corr().iloc[0, 1]\n",
    "# Display the Pearson correlation\n",
    "print(\"Pearson correlation:\\n\",correlation)\n",
    "\n",
    "spearman_correlation = geno_sum_overlap_extended[[\"AllelFre\", \"AF\"]].astype(float).corr(method='spearman').iloc[0, 1]\n",
    "\n",
    "# Display the Spearman correlation\n",
    "print(\"\\nSpearman correlation:\\n\",spearman_correlation)"
   ]
  },
  {
   "cell_type": "code",
   "execution_count": null,
   "metadata": {},
   "outputs": [],
   "source": [
    "paper_eqtls"
   ]
  },
  {
   "cell_type": "code",
   "execution_count": null,
   "metadata": {},
   "outputs": [],
   "source": [
    "top_1000IBD_own_1000IBD_all.loc[top_1000IBD_own_1000IBD_all['Flipped'] == True, 'MetaPZ'] *= -1\n",
    "\n",
    "# Perform Pearson correlation\n",
    "pearson_corr, pearson_pval = pearsonr(top_1000IBD_own_1000IBD_all['MetaPZ'], top_1000IBD_own_1000IBD_all['MetaPZ_chrom'])\n",
    "\n",
    "# Perform Spearman correlation\n",
    "spearman_corr, spearman_pval = spearmanr(top_1000IBD_own_1000IBD_all['MetaPZ'], top_1000IBD_own_1000IBD_all['MetaPZ_chrom'])\n",
    "\n",
    "# Output the results\n",
    "print(f\"\\nPearson correlation: {pearson_corr}, p-value: {pearson_pval}\")\n",
    "print(f\"Spearman correlation: {spearman_corr}, p-value: {spearman_pval}\")"
   ]
  },
  {
   "cell_type": "code",
   "execution_count": null,
   "metadata": {},
   "outputs": [],
   "source": [
    "plt.figure(figsize=(8, 6), facecolor='white')\n",
    "\n",
    "# Add trendline\n",
    "z = np.polyfit(top_1000IBD_own_1000IBD_all[\"MetaPZ\"], top_1000IBD_own_1000IBD_all[\"MetaPZ_chrom\"], 1)  # Fit linear regression (1st-degree polynomial)\n",
    "p = np.poly1d(z)\n",
    "plt.plot(top_1000IBD_own_1000IBD_all[\"MetaPZ\"], p(top_1000IBD_own_1000IBD_all[\"MetaPZ\"]), \"r--\")  # Plot the trendline in red dashed style\n",
    "\n",
    "plt.scatter(top_1000IBD_own_1000IBD_all[\"MetaPZ\"], top_1000IBD_own_1000IBD_all[\"MetaPZ_chrom\"], alpha=0.5)\n",
    "plt.title(\"Z-scores from overlapping 1000IBD paper summary stat top effects in 1000IBD summary stats all effects (Pearson correlation: 0.81)\")\n",
    "plt.xlabel(\"paper eQTLs - Z-score\")\n",
    "plt.ylabel(\"own eQTLs - Z-score\")\n",
    "plt.text(0.05, 0.95, f'N={top_1000IBD_own_1000IBD_all[\"Gene\"].size}', ha='left', va='top', transform=plt.gca().transAxes, fontsize=12, color='black')\n",
    "plt.grid()\n",
    "plt.show()\n"
   ]
  },
  {
   "cell_type": "code",
   "execution_count": null,
   "metadata": {},
   "outputs": [],
   "source": [
    "# Find common genes\n",
    "common_genes = list(set(own_count['Gene']).intersection(set(paper_count['Gene'])))\n",
    "\n",
    "# Subset both dataframes to keep only the common genes\n",
    "own_subset = own_count[own_count['Gene'].isin(common_genes)].set_index('Gene')\n",
    "paper_subset = paper_count[paper_count['Gene'].isin(common_genes)].set_index('Gene')\n",
    "\n",
    "# Ensure that the dataframes have the genes in the same order\n",
    "own_subset = own_subset.loc[common_genes]\n",
    "paper_subset = paper_subset.loc[common_genes]\n",
    "\n",
    "# Compute Pearson and Spearman correlations for each column\n",
    "pearson_corr = {}\n",
    "spearman_corr = {}\n",
    "\n",
    "for column in own_subset.columns:\n",
    "    pearson_corr[column] = pearsonr(own_subset[column], paper_subset[column])[0]\n",
    "    spearman_corr[column] = spearmanr(own_subset[column], paper_subset[column])[0]\n",
    "\n",
    "# Convert results to DataFrame for better readability\n",
    "pearson_corr_df = pd.DataFrame.from_dict(pearson_corr, orient='index', columns=['Pearson'])\n",
    "spearman_corr_df = pd.DataFrame.from_dict(spearman_corr, orient='index', columns=['Spearman'])"
   ]
  },
  {
   "cell_type": "code",
   "execution_count": null,
   "metadata": {},
   "outputs": [],
   "source": [
    "plt.plot(pearson_corr_df)\n",
    "plt.xticks([])\n",
    "plt.show()"
   ]
  },
  {
   "cell_type": "code",
   "execution_count": null,
   "metadata": {},
   "outputs": [],
   "source": [
    "plt.plot(spearman_corr_df)\n",
    "plt.xticks([])\n",
    "plt.show()"
   ]
  },
  {
   "cell_type": "code",
   "execution_count": null,
   "metadata": {},
   "outputs": [],
   "source": [
    "pearson_corr_df.describe()"
   ]
  },
  {
   "cell_type": "code",
   "execution_count": null,
   "metadata": {},
   "outputs": [],
   "source": [
    "spearman_corr_df.describe()"
   ]
  },
  {
   "cell_type": "code",
   "execution_count": null,
   "metadata": {},
   "outputs": [],
   "source": [
    "# first two steps are the same as in the cell above\n",
    "# Transpose the dataframes for row-wise (gene-wise) correlation\n",
    "own_subset = own_subset.T  # Transpose: now genes are columns\n",
    "paper_subset = paper_subset.T  # Transpose: now genes are columns\n",
    "\n",
    "# Compute Pearson and Spearman correlations for each gene (which are now columns)\n",
    "pearson_corr = {}\n",
    "spearman_corr = {}\n",
    "\n",
    "for gene in own_subset.columns:\n",
    "    pearson_corr[gene] = pearsonr(own_subset[gene], paper_subset[gene])[0]\n",
    "    spearman_corr[gene] = spearmanr(own_subset[gene], paper_subset[gene])[0]\n",
    "\n",
    "# Convert results to DataFrame for better readability\n",
    "pearson_row_wise_corr_df = pd.DataFrame.from_dict(pearson_corr, orient='index', columns=['Pearson'])\n",
    "spearman_row_wise_corr_df = pd.DataFrame.from_dict(spearman_corr, orient='index', columns=['Spearman'])\n"
   ]
  },
  {
   "cell_type": "code",
   "execution_count": null,
   "metadata": {},
   "outputs": [],
   "source": [
    "pearson_row_wise_corr_df.describe()"
   ]
  },
  {
   "cell_type": "code",
   "execution_count": null,
   "metadata": {},
   "outputs": [],
   "source": [
    "spearman_row_wise_corr_df.describe()"
   ]
  },
  {
   "cell_type": "code",
   "execution_count": null,
   "metadata": {},
   "outputs": [],
   "source": [
    "# Find common genes and subset both DataFrames\n",
    "common_genes = list(set(own_count['Gene']).intersection(set(paper_count['Gene'])))\n",
    "own_subset = own_count[own_count['Gene'].isin(common_genes)].set_index('Gene')\n",
    "paper_subset = paper_count[paper_count['Gene'].isin(common_genes)].set_index('Gene')\n",
    "\n",
    "# Ensure that the rows are in the same order of genes in both data sets\n",
    "own_subset = own_subset.loc[common_genes]\n",
    "paper_subset = paper_subset.loc[common_genes]\n",
    "\n",
    "# Transpose DataFrames so samples are rows and genes are columns\n",
    "own_transposed = own_subset.transpose()\n",
    "paper_transposed = paper_subset.transpose()\n",
    "\n",
    "# Use numpy to compute Pearson correlations for each own sample vs. all paper samples\n",
    "# This generates a single correlation matrix efficiently\n",
    "correlation_matrix = np.corrcoef(own_transposed, paper_transposed, rowvar=True)\n",
    "\n",
    "# Extract the one-to-many Pearson correlations only\n",
    "pearson_corr_matrix = correlation_matrix[:len(own_transposed), len(own_transposed):]\n",
    "\n",
    "# Convert results to a DataFrame for better readability\n",
    "pearson_corr_df = pd.DataFrame(pearson_corr_matrix, index=own_transposed.index, columns=paper_transposed.index)"
   ]
  },
  {
   "cell_type": "code",
   "execution_count": null,
   "metadata": {},
   "outputs": [],
   "source": [
    "pearson_corr_df"
   ]
  },
  {
   "cell_type": "code",
   "execution_count": null,
   "metadata": {},
   "outputs": [],
   "source": [
    "test_df = pearson_corr_df.copy()"
   ]
  },
  {
   "cell_type": "code",
   "execution_count": null,
   "metadata": {},
   "outputs": [],
   "source": [
    "test_df[\"max\"] = test_df.idxmax(axis=1)\n",
    "matching_results = test_df[\"max\"] == test_df.index\n",
    "\n",
    "count_yes = matching_results.sum()\n",
    "count_no = len(matching_results) - count_yes\n",
    "\n",
    "# Output the counts\n",
    "print(f\"Count of 'Yes' (matching): {count_yes}\")\n",
    "print(f\"Count of 'No' (not matching): {count_no}\")"
   ]
  },
  {
   "cell_type": "code",
   "execution_count": null,
   "metadata": {},
   "outputs": [],
   "source": [
    "test_df2 = pearson_corr_df.copy()\n",
    "test_df2[\"max\"] = test_df2.idxmax(axis=0)\n",
    "matching_results = test_df2[\"max\"] == test_df2.index\n",
    "\n",
    "count_yes = matching_results.sum()\n",
    "count_no = len(matching_results) - count_yes\n",
    "\n",
    "# Output the counts\n",
    "print(f\"Count of 'Yes' (matching): {count_yes}\")\n",
    "print(f\"Count of 'No' (not matching): {count_no}\")"
   ]
  },
  {
   "cell_type": "code",
   "execution_count": null,
   "metadata": {},
   "outputs": [],
   "source": [
    "# Heatmap for Pearson correlations\n",
    "plt.figure(figsize=(20, 16))\n",
    "sns.heatmap(pearson_corr_df, cmap=\"coolwarm\", center=0, annot=False)\n",
    "plt.title(\"Pearson Correlation Heatmap (Own vs. Paper Samples)\")\n",
    "plt.xlabel(\"Own Samples\")\n",
    "plt.ylabel(\"Paper Samples\")\n",
    "plt.xticks([])\n",
    "plt.yticks([])\n",
    "plt.show()"
   ]
  },
  {
   "cell_type": "code",
   "execution_count": null,
   "metadata": {},
   "outputs": [],
   "source": [
    "# Find common genes and subset both DataFrames\n",
    "common_genes2 = list(set(own_normalized_counts['Gene']).intersection(set(paper_count['Gene'])))\n",
    "own_subset2 = own_normalized_counts[own_normalized_counts['Gene'].isin(common_genes2)].set_index('Gene')\n",
    "paper_subset2 = paper_count[paper_count['Gene'].isin(common_genes2)].set_index('Gene')\n",
    "\n",
    "# Ensure that the rows are in the same order of genes in both data sets\n",
    "own_subset2 = own_subset2.loc[common_genes2]\n",
    "paper_subset2 = paper_subset2.loc[common_genes2]\n",
    "\n",
    "# Transpose DataFrames so samples are rows and genes are columns\n",
    "own_transposed2 = own_subset2.transpose()\n",
    "paper_transposed2 = paper_subset2.transpose()\n",
    "\n",
    "# Use numpy to compute Pearson correlations for each own sample vs. all paper samples\n",
    "# This generates a single correlation matrix efficiently\n",
    "correlation_matrix2 = np.corrcoef(own_transposed2, paper_transposed2, rowvar=True)\n",
    "\n",
    "# Extract the one-to-many Pearson correlations only\n",
    "pearson_corr_matrix2 = correlation_matrix2[:len(own_transposed2), len(own_transposed2):]\n",
    "\n",
    "# Convert results to a DataFrame for better readability\n",
    "pearson_corr_df_normalized = pd.DataFrame(pearson_corr_matrix2, index=own_transposed2.index, columns=paper_transposed2.index)"
   ]
  },
  {
   "cell_type": "code",
   "execution_count": null,
   "metadata": {},
   "outputs": [],
   "source": [
    "# Heatmap for Pearson correlations\n",
    "plt.figure(figsize=(20, 16))\n",
    "sns.heatmap(pearson_corr_df_normalized, cmap=\"coolwarm\", center=0, annot=False)\n",
    "plt.title(\"Pearson Correlation Heatmap (Own vs. Paper Samples)\")\n",
    "plt.xlabel(\"Own Samples\")\n",
    "plt.ylabel(\"Paper Samples\")\n",
    "plt.xticks([])\n",
    "plt.yticks([])\n",
    "plt.show()"
   ]
  },
  {
   "cell_type": "markdown",
   "metadata": {},
   "source": [
    "## Confusion matrix"
   ]
  },
  {
   "cell_type": "code",
   "execution_count": null,
   "metadata": {},
   "outputs": [],
   "source": [
    "linkfile"
   ]
  },
  {
   "cell_type": "code",
   "execution_count": null,
   "metadata": {},
   "outputs": [],
   "source": [
    "own_gene_ids = own_count.iloc[:, 0]\n",
    "paper_gene_ids = paper_count.iloc[:, 0]\n",
    "overlapping_genes = own_gene_ids[own_gene_ids.isin(paper_gene_ids)]\n",
    "\n",
    "own_count_filtered = own_count[own_count.iloc[:, 0].isin(overlapping_genes)]\n",
    "paper_count_filtered = paper_count[paper_count.iloc[:, 0].isin(overlapping_genes)]\n",
    "\n",
    "own_count_filtered = own_count_filtered.sort_values(by=own_count_filtered.columns[0])\n",
    "paper_count_filtered = paper_count_filtered.sort_values(by=paper_count_filtered.columns[0])\n",
    "\n",
    "own_samples = own_count_filtered.iloc[:, 1:]  # Skip the first column (gene IDs)\n",
    "paper_samples = paper_count_filtered.iloc[:, 1:]  # Skip the first column (gene IDs)\n",
    "\n",
    "common_samples = own_samples.columns.intersection(paper_samples.columns)\n",
    "\n",
    "correlations = []\n",
    "for sample in common_samples:\n",
    "    # Compute Pearson correlation for the same sample between own_samples and paper_samples\n",
    "    corr_value = own_samples[sample].corr(paper_samples[sample])\n",
    "    correlations.append(corr_value)\n",
    "\n",
    "correlation_df = pd.DataFrame({'Sample': common_samples, 'Correlation': correlations})\n",
    "\n",
    "plt.figure(figsize=(12, 6))\n",
    "sns.barplot(x='Sample', y='Correlation', data=correlation_df, palette=\"coolwarm\")\n",
    "plt.xticks(rotation=90)  # Rotate x-axis labels for better readability\n",
    "plt.title('Pearson Correlation Between Samples with Same Name (own_count vs paper_count)')\n",
    "plt.ylabel('Pearson Correlation')\n",
    "plt.xlabel('Sample')\n",
    "plt.ylim(-1, 1)  # Pearson correlation ranges from -1 to 1\n",
    "plt.xticks([])\n",
    "plt.show()"
   ]
  },
  {
   "cell_type": "code",
   "execution_count": null,
   "metadata": {},
   "outputs": [],
   "source": [
    "own_gene_ids = own_count.iloc[:, 0]\n",
    "paper_gene_ids = paper_count.iloc[:, 0]\n",
    "overlapping_genes = own_gene_ids[own_gene_ids.isin(paper_gene_ids)]\n",
    "\n",
    "own_count_filtered = own_count[own_count.iloc[:, 0].isin(overlapping_genes)]\n",
    "paper_count_filtered = paper_count[paper_count.iloc[:, 0].isin(overlapping_genes)]\n",
    "\n",
    "own_count_filtered = own_count_filtered.sort_values(by=own_count_filtered.columns[0])\n",
    "paper_count_filtered = paper_count_filtered.sort_values(by=paper_count_filtered.columns[0])\n",
    "\n",
    "own_samples = own_count_filtered.iloc[:, 1:]  # Skip the first column (gene IDs)\n",
    "paper_samples = paper_count_filtered.iloc[:, 1:]  # Skip the first column (gene IDs)\n",
    "\n",
    "common_samples = own_samples.columns.intersection(paper_samples.columns)\n",
    "\n",
    "spearman_correlations = []\n",
    "for sample in common_samples:\n",
    "    # Compute Spearman correlation for the same sample between own_samples and paper_samples\n",
    "    corr_value = own_samples[sample].corr(paper_samples[sample], method='spearman')\n",
    "    spearman_correlations.append(corr_value)\n",
    "\n",
    "spearman_correlation_df = pd.DataFrame({'Sample': common_samples, 'Spearman Correlation': spearman_correlations})\n",
    "\n",
    "plt.figure(figsize=(12, 6))\n",
    "sns.barplot(x='Sample', y='Spearman Correlation', data=spearman_correlation_df, palette=\"coolwarm\")\n",
    "plt.xticks(rotation=90)  # Rotate x-axis labels for better readability\n",
    "plt.title('Spearman Correlation Between Samples with Same Name (own_count vs paper_count)')\n",
    "plt.ylabel('Spearman Correlation')\n",
    "plt.xlabel('Sample')\n",
    "plt.xticks([])\n",
    "plt.ylim(-1, 1)  # Spearman correlation ranges from -1 to 1\n",
    "plt.show()"
   ]
  }
 ],
 "metadata": {
  "kernelspec": {
   "display_name": "base",
   "language": "python",
   "name": "python3"
  },
  "language_info": {
   "codemirror_mode": {
    "name": "ipython",
    "version": 3
   },
   "file_extension": ".py",
   "mimetype": "text/x-python",
   "name": "python",
   "nbconvert_exporter": "python",
   "pygments_lexer": "ipython3",
   "version": "3.12.5"
  }
 },
 "nbformat": 4,
 "nbformat_minor": 2
}
